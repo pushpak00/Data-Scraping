{
 "cells": [
  {
   "cell_type": "code",
   "execution_count": 2,
   "id": "391f481d",
   "metadata": {},
   "outputs": [],
   "source": [
    "import requests\n",
    "from bs4 import BeautifulSoup"
   ]
  },
  {
   "cell_type": "code",
   "execution_count": 3,
   "id": "c13654bf",
   "metadata": {},
   "outputs": [],
   "source": [
    "URL = 'https://www.brainyquote.com/topics/inspirational-quotes'"
   ]
  },
  {
   "cell_type": "code",
   "execution_count": 4,
   "id": "0624be07",
   "metadata": {},
   "outputs": [],
   "source": [
    "r = requests.get(URL)"
   ]
  },
  {
   "cell_type": "code",
   "execution_count": 5,
   "id": "8102face",
   "metadata": {},
   "outputs": [],
   "source": [
    "soup = BeautifulSoup(r.content, 'html5lib')"
   ]
  },
  {
   "cell_type": "code",
   "execution_count": 6,
   "id": "babb0bdd",
   "metadata": {},
   "outputs": [
    {
     "name": "stdout",
     "output_type": "stream",
     "text": [
      "<!DOCTYPE html>\n",
      "<html lang=\"en-US\">\n",
      " <head>\n",
      "  <title>\n",
      "   Just a moment...\n",
      "  </title>\n",
      "  <meta content=\"text/html; charset=utf-8\" http-equiv=\"Content-Type\"/>\n",
      "  <meta content=\"IE=Edge\" http-equiv=\"X-UA-Compatible\"/>\n",
      "  <meta content=\"noindex,nofollow\" name=\"robots\"/>\n",
      "  <meta content=\"width=device-width,initial-scale=1\" name=\"viewport\"/>\n",
      "  <style>\n",
      "   *{box-sizing:border-box;margin:0;padding:0}html{line-height:1.15;-webkit-text-size-adjust:100%;color:#313131}button,html{font-family:system-ui,-apple-system,BlinkMacSystemFont,Segoe UI,Roboto,Helvetica Neue,Arial,Noto Sans,sans-serif,Apple Color Emoji,Segoe UI Emoji,Segoe UI Symbol,Noto Color Emoji}@media (prefers-color-scheme:dark){body{background-color:#222;color:#d9d9d9}body a{color:#fff}body a:hover{color:#ee730a;text-decoration:underline}body .lds-ring div{border-color:#999 transparent transparent}body .font-red{color:#b20f03}body .big-button,body .pow-button{background-color:#4693ff;color:#1d1d1d}body #challenge-success-text{background-image:url(data:image/svg+xml;base64,PHN2ZyB4bWxucz0iaHR0cDovL3d3dy53My5vcmcvMjAwMC9zdmciIHdpZHRoPSIzMiIgaGVpZ2h0PSIzMiIgZmlsbD0ibm9uZSIgdmlld0JveD0iMCAwIDI2IDI2Ij48cGF0aCBmaWxsPSIjZDlkOWQ5IiBkPSJNMTMgMGExMyAxMyAwIDEgMCAwIDI2IDEzIDEzIDAgMCAwIDAtMjZtMCAyNGExMSAxMSAwIDEgMSAwLTIyIDExIDExIDAgMCAxIDAgMjIiLz48cGF0aCBmaWxsPSIjZDlkOWQ5IiBkPSJtMTAuOTU1IDE2LjA1NS0zLjk1LTQuMTI1LTEuNDQ1IDEuMzg1IDUuMzcgNS42MSA5LjQ5NS05LjYtMS40Mi0xLjQwNXoiLz48L3N2Zz4=)}body #challenge-error-text{background-image:url(data:image/svg+xml;base64,PHN2ZyB4bWxucz0iaHR0cDovL3d3dy53My5vcmcvMjAwMC9zdmciIHdpZHRoPSIzMiIgaGVpZ2h0PSIzMiIgZmlsbD0ibm9uZSI+PHBhdGggZmlsbD0iI0IyMEYwMyIgZD0iTTE2IDNhMTMgMTMgMCAxIDAgMTMgMTNBMTMuMDE1IDEzLjAxNSAwIDAgMCAxNiAzbTAgMjRhMTEgMTEgMCAxIDEgMTEtMTEgMTEuMDEgMTEuMDEgMCAwIDEtMTEgMTEiLz48cGF0aCBmaWxsPSIjQjIwRjAzIiBkPSJNMTcuMDM4IDE4LjYxNUgxNC44N0wxNC41NjMgOS41aDIuNzgzem0tMS4wODQgMS40MjdxLjY2IDAgMS4wNTcuMzg4LjQwNy4zODkuNDA3Ljk5NCAwIC41OTYtLjQwNy45ODQtLjM5Ny4zOS0xLjA1Ny4zODktLjY1IDAtMS4wNTYtLjM4OS0uMzk4LS4zODktLjM5OC0uOTg0IDAtLjU5Ny4zOTgtLjk4NS40MDYtLjM5NyAxLjA1Ni0uMzk3Ii8+PC9zdmc+)}}body{display:flex;flex-direction:column;min-height:100vh}body.no-js .loading-spinner{visibility:hidden}body.no-js .challenge-running{display:none}body.dark{background-color:#222;color:#d9d9d9}body.dark a{color:#fff}body.dark a:hover{color:#ee730a;text-decoration:underline}body.dark .lds-ring div{border-color:#999 transparent transparent}body.dark .font-red{color:#b20f03}body.dark .big-button,body.dark .pow-button{background-color:#4693ff;color:#1d1d1d}body.dark #challenge-success-text{background-image:url(data:image/svg+xml;base64,PHN2ZyB4bWxucz0iaHR0cDovL3d3dy53My5vcmcvMjAwMC9zdmciIHdpZHRoPSIzMiIgaGVpZ2h0PSIzMiIgZmlsbD0ibm9uZSIgdmlld0JveD0iMCAwIDI2IDI2Ij48cGF0aCBmaWxsPSIjZDlkOWQ5IiBkPSJNMTMgMGExMyAxMyAwIDEgMCAwIDI2IDEzIDEzIDAgMCAwIDAtMjZtMCAyNGExMSAxMSAwIDEgMSAwLTIyIDExIDExIDAgMCAxIDAgMjIiLz48cGF0aCBmaWxsPSIjZDlkOWQ5IiBkPSJtMTAuOTU1IDE2LjA1NS0zLjk1LTQuMTI1LTEuNDQ1IDEuMzg1IDUuMzcgNS42MSA5LjQ5NS05LjYtMS40Mi0xLjQwNXoiLz48L3N2Zz4=)}body.dark #challenge-error-text{background-image:url(data:image/svg+xml;base64,PHN2ZyB4bWxucz0iaHR0cDovL3d3dy53My5vcmcvMjAwMC9zdmciIHdpZHRoPSIzMiIgaGVpZ2h0PSIzMiIgZmlsbD0ibm9uZSI+PHBhdGggZmlsbD0iI0IyMEYwMyIgZD0iTTE2IDNhMTMgMTMgMCAxIDAgMTMgMTNBMTMuMDE1IDEzLjAxNSAwIDAgMCAxNiAzbTAgMjRhMTEgMTEgMCAxIDEgMTEtMTEgMTEuMDEgMTEuMDEgMCAwIDEtMTEgMTEiLz48cGF0aCBmaWxsPSIjQjIwRjAzIiBkPSJNMTcuMDM4IDE4LjYxNUgxNC44N0wxNC41NjMgOS41aDIuNzgzem0tMS4wODQgMS40MjdxLjY2IDAgMS4wNTcuMzg4LjQwNy4zODkuNDA3Ljk5NCAwIC41OTYtLjQwNy45ODQtLjM5Ny4zOS0xLjA1Ny4zODktLjY1IDAtMS4wNTYtLjM4OS0uMzk4LS4zODktLjM5OC0uOTg0IDAtLjU5Ny4zOTgtLjk4NS40MDYtLjM5NyAxLjA1Ni0uMzk3Ii8+PC9zdmc+)}body.light{background-color:transparent;color:#313131}body.light a{color:#0051c3}body.light a:hover{color:#ee730a;text-decoration:underline}body.light .lds-ring div{border-color:#595959 transparent transparent}body.light .font-red{color:#fc574a}body.light .big-button,body.light .pow-button{background-color:#003681;border-color:#003681;color:#fff}body.light #challenge-success-text{background-image:url(data:image/svg+xml;base64,PHN2ZyB4bWxucz0iaHR0cDovL3d3dy53My5vcmcvMjAwMC9zdmciIHdpZHRoPSIzMiIgaGVpZ2h0PSIzMiIgZmlsbD0ibm9uZSIgdmlld0JveD0iMCAwIDI2IDI2Ij48cGF0aCBmaWxsPSIjMzEzMTMxIiBkPSJNMTMgMGExMyAxMyAwIDEgMCAwIDI2IDEzIDEzIDAgMCAwIDAtMjZtMCAyNGExMSAxMSAwIDEgMSAwLTIyIDExIDExIDAgMCAxIDAgMjIiLz48cGF0aCBmaWxsPSIjMzEzMTMxIiBkPSJtMTAuOTU1IDE2LjA1NS0zLjk1LTQuMTI1LTEuNDQ1IDEuMzg1IDUuMzcgNS42MSA5LjQ5NS05LjYtMS40Mi0xLjQwNXoiLz48L3N2Zz4=)}body.light #challenge-error-text{background-image:url(data:image/svg+xml;base64,PHN2ZyB4bWxucz0iaHR0cDovL3d3dy53My5vcmcvMjAwMC9zdmciIHdpZHRoPSIzMiIgaGVpZ2h0PSIzMiIgZmlsbD0ibm9uZSI+PHBhdGggZmlsbD0iI2ZjNTc0YSIgZD0iTTE2IDNhMTMgMTMgMCAxIDAgMTMgMTNBMTMuMDE1IDEzLjAxNSAwIDAgMCAxNiAzbTAgMjRhMTEgMTEgMCAxIDEgMTEtMTEgMTEuMDEgMTEuMDEgMCAwIDEtMTEgMTEiLz48cGF0aCBmaWxsPSIjZmM1NzRhIiBkPSJNMTcuMDM4IDE4LjYxNUgxNC44N0wxNC41NjMgOS41aDIuNzgzem0tMS4wODQgMS40MjdxLjY2IDAgMS4wNTcuMzg4LjQwNy4zODkuNDA3Ljk5NCAwIC41OTYtLjQwNy45ODQtLjM5Ny4zOS0xLjA1Ny4zODktLjY1IDAtMS4wNTYtLjM4OS0uMzk4LS4zODktLjM5OC0uOTg0IDAtLjU5Ny4zOTgtLjk4NS40MDYtLjM5NyAxLjA1Ni0uMzk3Ii8+PC9zdmc+)}a{background-color:transparent;color:#0051c3;text-decoration:none;transition:color .15s ease}a:hover{color:#ee730a;text-decoration:underline}.main-content{margin:8rem auto;max-width:60rem;width:100%}.heading-favicon{height:2rem;margin-right:.5rem;width:2rem}@media (width <= 720px){.main-content{margin-top:4rem}.heading-favicon{height:1.5rem;width:1.5rem}}.footer,.main-content{padding-left:1.5rem;padding-right:1.5rem}.main-wrapper{align-items:center;display:flex;flex:1;flex-direction:column}.font-red{color:#b20f03}.spacer{margin:2rem 0}.h1{font-size:2.5rem;font-weight:500;line-height:3.75rem}.h2{font-weight:500}.core-msg,.h2{font-size:1.5rem;line-height:2.25rem}.body-text,.core-msg{font-weight:400}.body-text{font-size:1rem;line-height:1.25rem}@media (width <= 720px){.h1{font-size:1.5rem;line-height:1.75rem}.h2{font-size:1.25rem}.core-msg,.h2{line-height:1.5rem}.core-msg{font-size:1rem}}#challenge-error-text{background-image:url(data:image/svg+xml;base64,PHN2ZyB4bWxucz0iaHR0cDovL3d3dy53My5vcmcvMjAwMC9zdmciIHdpZHRoPSIzMiIgaGVpZ2h0PSIzMiIgZmlsbD0ibm9uZSI+PHBhdGggZmlsbD0iI2ZjNTc0YSIgZD0iTTE2IDNhMTMgMTMgMCAxIDAgMTMgMTNBMTMuMDE1IDEzLjAxNSAwIDAgMCAxNiAzbTAgMjRhMTEgMTEgMCAxIDEgMTEtMTEgMTEuMDEgMTEuMDEgMCAwIDEtMTEgMTEiLz48cGF0aCBmaWxsPSIjZmM1NzRhIiBkPSJNMTcuMDM4IDE4LjYxNUgxNC44N0wxNC41NjMgOS41aDIuNzgzem0tMS4wODQgMS40MjdxLjY2IDAgMS4wNTcuMzg4LjQwNy4zODkuNDA3Ljk5NCAwIC41OTYtLjQwNy45ODQtLjM5Ny4zOS0xLjA1Ny4zODktLjY1IDAtMS4wNTYtLjM4OS0uMzk4LS4zODktLjM5OC0uOTg0IDAtLjU5Ny4zOTgtLjk4NS40MDYtLjM5NyAxLjA1Ni0uMzk3Ii8+PC9zdmc+);padding-left:34px}#challenge-error-text,#challenge-success-text{background-repeat:no-repeat;background-size:contain}#challenge-success-text{background-image:url(data:image/svg+xml;base64,PHN2ZyB4bWxucz0iaHR0cDovL3d3dy53My5vcmcvMjAwMC9zdmciIHdpZHRoPSIzMiIgaGVpZ2h0PSIzMiIgZmlsbD0ibm9uZSIgdmlld0JveD0iMCAwIDI2IDI2Ij48cGF0aCBmaWxsPSIjMzEzMTMxIiBkPSJNMTMgMGExMyAxMyAwIDEgMCAwIDI2IDEzIDEzIDAgMCAwIDAtMjZtMCAyNGExMSAxMSAwIDEgMSAwLTIyIDExIDExIDAgMCAxIDAgMjIiLz48cGF0aCBmaWxsPSIjMzEzMTMxIiBkPSJtMTAuOTU1IDE2LjA1NS0zLjk1LTQuMTI1LTEuNDQ1IDEuMzg1IDUuMzcgNS42MSA5LjQ5NS05LjYtMS40Mi0xLjQwNXoiLz48L3N2Zz4=);padding-left:42px}.text-center{text-align:center}.big-button{border:.063rem solid #0051c3;border-radius:.313rem;font-size:.875rem;line-height:1.313rem;padding:.375rem 1rem;transition-duration:.2s;transition-property:background-color,border-color,color;transition-timing-function:ease}.big-button:hover{cursor:pointer}.captcha-prompt:not(.hidden){display:flex}@media (width <= 720px){.captcha-prompt:not(.hidden){flex-wrap:wrap;justify-content:center}}.pow-button{background-color:#0051c3;color:#fff;margin:2rem 0}.pow-button:hover{background-color:#003681;border-color:#003681;color:#fff}.footer{font-size:.75rem;line-height:1.125rem;margin:0 auto;max-width:60rem;width:100%}.footer-inner{border-top:1px solid #d9d9d9;padding-bottom:1rem;padding-top:1rem}.clearfix:after{clear:both;content:\"\";display:table}.clearfix .column{float:left;padding-right:1.5rem;width:50%}.diagnostic-wrapper{margin-bottom:.5rem}.footer .ray-id{text-align:center}.footer .ray-id code{font-family:monaco,courier,monospace}.core-msg,.zone-name-title{overflow-wrap:break-word}@media (width <= 720px){.diagnostic-wrapper{display:flex;flex-wrap:wrap;justify-content:center}.clearfix:after{clear:none;content:none;display:initial;text-align:center}.column{padding-bottom:2rem}.clearfix .column{float:none;padding:0;width:auto;word-break:keep-all}.zone-name-title{margin-bottom:1rem}}.loading-spinner{height:76.391px}.lds-ring{display:inline-block;position:relative}.lds-ring,.lds-ring div{height:1.875rem;width:1.875rem}.lds-ring div{animation:lds-ring 1.2s cubic-bezier(.5,0,.5,1) infinite;border:.3rem solid transparent;border-radius:50%;border-top-color:#313131;box-sizing:border-box;display:block;position:absolute}.lds-ring div:first-child{animation-delay:-.45s}.lds-ring div:nth-child(2){animation-delay:-.3s}.lds-ring div:nth-child(3){animation-delay:-.15s}@keyframes lds-ring{0%{transform:rotate(0)}to{transform:rotate(1turn)}}@media screen and (-ms-high-contrast:active),screen and (-ms-high-contrast:none){.main-wrapper,body{display:block}}.rtl .heading-favicon{margin-left:.5rem;margin-right:0}.rtl #challenge-success-text{background-position:100%;padding-left:0;padding-right:42px}.rtl #challenge-error-text{background-position:100%;padding-left:0;padding-right:34px}\n",
      "  </style>\n",
      "  <meta content=\"375\" http-equiv=\"refresh\"/>\n",
      " </head>\n",
      " <body class=\"no-js\">\n",
      "  <div class=\"main-wrapper\" role=\"main\">\n",
      "   <div class=\"main-content\">\n",
      "    <noscript>\n",
      "     <div id=\"challenge-error-title\">\n",
      "      <div class=\"h2\">\n",
      "       <span id=\"challenge-error-text\">\n",
      "        Enable JavaScript and cookies to continue\n",
      "       </span>\n",
      "      </div>\n",
      "     </div>\n",
      "    </noscript>\n",
      "   </div>\n",
      "  </div>\n",
      "  <script>\n",
      "   (function(){window._cf_chl_opt={cvId: '3',cZone: \"www.brainyquote.com\",cType: 'managed',cNounce: '67675',cRay: '87856071fb9c8577',cHash: 'e5fd145cde8040e',cUPMDTk: \"\\/topics\\/inspirational-quotes?__cf_chl_tk=9sQlVCj4n8JNG9KDUioUisb0ZsrLPH2WwKXcxxJIqSU-1713786422-0.0.1.1-1663\",cFPWv: 'b',cTTimeMs: '1000',cMTimeMs: '375000',cTplV: 5,cTplB: 'cf',cK: \"visitor-time\",fa: \"\\/topics\\/inspirational-quotes?__cf_chl_f_tk=9sQlVCj4n8JNG9KDUioUisb0ZsrLPH2WwKXcxxJIqSU-1713786422-0.0.1.1-1663\",md: \"XD9jB0fSIK23N6O.ftccmDbG0c3Ewgri4HZxMjqWP2M-1713786422-1.1.1.1-V2spbF6ERbSdCfHBPnU.zxgUusrrsunwLtZQylCKoO_At8_6O02HorEeKkz8GrL.Oyzm0VSlix5FVDf4xl3tSFbq8cf16qmGLlFaCldB2x1AuW441aYmWBdCgrDwABZyAS_izV2Pc7wzVRX8yMzN8P6ZoCUDhLJfz1W358E.ynmGg1GNdETc8HwRBlRU7xiEzhOl1wJtKjE.1O6fl7LcArJ3wuwCmTmcAlZlJ1kbOelXVNdQqtxy6u8zQ2OwC.ob5Dcya9rMC11vfS_6dQhM4_hkT4oBmWZbo.QFpaBVPwdgYRV7Hjx92BaYqKzleHyNw3gVqqRYRNAKjfSMpVukNPDHVijH5z1QdsMTave0rA7e5oG_XQhw8mdHx0uo8p9tKIl_LLvuL5uZTlxfDYeU8ysysuBWFRS3wT_0TMALZq9Y2.oQk8wCAHo2eHNMfStbOC9Bgp9ySsCOo0juu.mT7HU98epowv3dldle6CEWqjVKNY0ZjW_Es3sXameMV_THYksPj9yA0E7AAvl12xWX5uYv3cy0bwxws8yEK7nTDewquxxeSxMJZ90HzI6Ra0dvhvLjuVDk30_4pRc1QgmENFbbgFzq9UqesNTdmlEJ4KGSHuc_cYKAIvRVFTdNrBBHB_ivd7i00W7ZeLysnTJR1HyuSpHvz9JqepjpNaNG1yU0caywsZfeC6BkowGJx8_F7slrsXgAfXlBObf2mNV8.FxJ9iv2vF2J0hRLvRIkXfsonyJCv4EOMJjm7cWctdnKSBqmXxCPTb_SBWZ02fazvysuojFqojLQTxakAsU00SaLVpDYIWodtPo1_rLCmGnMzfwkUdmzqUWPp74B5zNozupys41n2kDgWSaIEJ7qTf9mwV1bpsA_sxKGx2ngJlE5wMCYHiHEPM2hEixXwQ4PdnqzmZ_XIRNhQq6JJAfBwwzEzkK96MY224zlRO7hO.wzUoTdu8PKi3.y9HDDvCpvoK3W12uqa1YYkmAFwhfpLCeVpJLVOUdNcybKzbTNc_WPBDq6cheeoFJqvP7O8ZLL.Eb7BhjWZvLogNenE_zpX9yt_FAbfErxcFdJA4lFwvSr959OHvAp0BE77wPycb2E47tpqGT_s7daxIfxmcDYY_pzR_iLe2a_PUyazjspM9LiFMi8LGizrrj2albqc77ivmZixmXTGeE1HahKO1gU8h6bEPf41Hyi_6J1rGeX.ZbsQt3T_qFR6JhvwRlV17XZazc6zxg6ERBnnkEhADoh__RjdrYNN9poxWtfob3mYdvGKEt.0tbV.AEXB_ZqX0aUk8CswJ7_W12TZzFEDvSJJk4i1s4_xzkOisHmFEN8WcNn_VASDy2RCG..o99o264WScmG.RNvqS_4lw7c2I36.U4FYFJ1Blc6is3iivet0upj9kttcpMo5AXFUlXEpWZtSzESDSFOIdxUR6gankP2AewasN9p1N5MJ.Lj1jH46RhCuxlsvU76CrrAm55_Aejtb3dMXSSM6zlDJNDAoHXdCyKQEqC2RupkHWE01E3hgGpHPdVuRMIQGGiLw9j7azUOm3I6AXYJbyowZH9U4OCrQqo6pSXuCxMtcz5FfqV6FOM1\",mdrd: \"4HSjbmjc6fz4HuNjOjK7R9vaa9WtFoWf110AXH7DbCI-1713786422-1.1.1.1-mJE6rSrim8gVXnUv.PDEK_S9j5yBfcL_5cNxi7wNjmyvudRVrzYMTLEc6zjz.HI1t9FthZ5zTlvdHoy2QhKI9T9cUv4pbqib0B0OgxJ968NNT.uMdTDE6Q5Akqt75Y7WflvBkj_CTCJT1sY.BgL7IHzZDgtw.iiKtBxK729GPSbjjIUdrNAdTRKRpqhot4rN3SmUZ.fQzeDgzhy27NTLJ9WBg0z19cKvir29cw.7dw2YdRNQptBXBp4ZEcXKuA02aX_22dVvcqxzhQqlxWKF_nmt6UF5dPJUFzOtqZJfuR.cmbXwXXVh51LKHSNhYvJS8NiVXBR7Kat_lH253thhGF037l2oUbyCZpRH1rgUw8bBB8w30LDK3GbRPsEi5Es0zg6NpOL1nW27ub0nccUvsgvuiPR6oXZfzovLT2AWAzaaHd6H4PqXZftXiRL7G7DVOgunp9afowSTPvim4TR28.LgCIRKRLeBtsuAeOWstof.HjBnt38INiMF1pE9V_3LPMb8gd0NzyFP0WadWYBhTbUc1YAz8bMqUQpCA.T37JmkB2b66lKm3C4M2Dzqv7yZ75uHhu6N9v6D9SV1_uu5_dxQqYkEEBvVU9RYRJfL23YEO4tKUQLABGRVVOYyHy0fph4k1pYTp8IyklYoThtvM1yRtaC3A61geYqaf_Xau6tzJZMZiOFDuJs6d7tU0GF0EKdO1Omop39ZgPvbFvLh_YxJf0EnB.Nn_sXProx.g8U.EmIc6J3wjhQEjXZwOn6.87GTH8pHh9LjK7jNZY8cOC3GGwozL4Dl_9NykL8TuzuAkIPyFDcw7tuAUjUYEOaw_LU9lzp.8aUDRhWOrc3r4hgdEUu2Wkm6c9EzkrVIdadrE4ujDyCamrqEIAjMX3t7fsZEr1GLHa37y9FaTXZ8BbZIgrUGrHs0TLbS_sb4nh9UvzZEZTxMZWc_BNq4cDjrzD.6PcWMaSc.xdxFjraZhV4_sIRAz4V1JtD2ZA8LtvWyXWREGWFmgj8kXPaOoDtxwlgiDtFHBB1gZqjS26QwSAO994DwlL2lVVb0l3ODI2FZMrZy6mJHeq44ToKbtZogYsTprdCrzO19GIf6NpVKnoH3POA5pRq.DVHieTfBtt2qR7CeIe4oteJqVGHEtbQi6.RITD1Hf7N.PoZdmTLf9HOmRk9QNYF_dFKd3luYeiplsdhbQyr39DoIEsEp8tbF7J8vsgg6IrrnkIhoTcrLrDkQRpYddPLxjk56m8GjI6zLLqWoa.DSqbB3OwJIkuAPkqH_MwNF7kw4QjUFr79u2AWn.ew4hgCR454vlOweEd6IIrhs.ZGHz6ZnyIC6.V6DlleWoD15sA3oxV.j53XBgPjnDnDKt7rWCCIGInnLrJMpIGgThuBUMS2C6tLHUSg7BLkdqCqFRZyfistv23WRdNFXk5LsEbPVabnoPk9ys.8jVJ6t73_g_Iricy8os55bliibKX2NNcEuL8thTpZDGUgR1bBDOsZ5nh_iUi0B21v_uk1HkSDRwTnyOLDJkYbfwoBq.pue3NR10IJAw6RxZl9zeB6zpwBd_qSkzBRT7TDOYGmc6Ptw7Ty8sKkn3WkS2Knsa_TKEkRHXiAbl2bTOu5KxnHCsuMjGH_37PFnfzbivWpc2AfuKXLmIZmiiHtaFHO64ljHylZWdzutSFP6b0FuUliHU4pvTDluxBa_ZwNcupDFNWMu10C.992oKXyS2ACAc9ixR1fZc6Y3WB7bxMecSh_xJbGtLeL4w_ix5ugUBU6Ws_x.2U0nRNKkyOVLYCGd4sVo7D3rCF2THEcOI5kY5vbSKOZbC_wGzIFduOQqrDcITQk1._7SRUMFM7SI7yeGoNBLGZELzY8F6RIPu5vBZ4WGBaCl8UkOdK942WAKGyU9bjmmnk743NaTJwxLckIwnAdaGCC290V.oUJY4vuFAvdtR6fsV.BxD5t1n9G_cs88BpgA2K.W61U8vBmuNKlxzzRz3xCQy6PmR410jnHL5PEfW.tjP1CWZ6ZhBUoHwvetF34i6Ubu5DUSIsA85sEh2E2A4jMxkV4tRPiFn4OEPrXZv.94e2NDDRxeU7Ph6835ycAge.1DhD.zr5Dx71VX8MmtHGtq.UpOJ.ysVB417nAPeliu0q4HyQSVtvMBC0A7F8BcUnv.rb_LbBzq\",cRq: {ru: 'aHR0cHM6Ly93d3cuYnJhaW55cXVvdGUuY29tL3RvcGljcy9pbnNwaXJhdGlvbmFsLXF1b3Rlcw==',ra: 'cHl0aG9uLXJlcXVlc3RzLzIuMjguMQ==',rm: 'R0VU',d: 'TKB7VXLxVSO1xs+AG1ZgTdk4VFJw7NUo+p3RxRwtVgeehwZZWGivqRcVLYdoHAoqVTufMkEpyCckij7LPXv2pSqeKzc88hKAVE1rOUWh9qnpMF3rf8ixl8WM9fvkWZiAGYGIm4g8nSlkatFgPHdQmUGnUKSb8w0UxwGXg9z57qI1y4N/OnSZko+JLLVc5Ml4YE5p8DWBf2mZu86z4pugzjXnr6LMwf8LW42rvMXPH8IQ1XU/fVZc/sOcigg62S1odjOYp+ip3buTvA/hC+WvxCFR39F/mE4YnsxOICO3d9ObhH06WTGZPfatQ1VhBuin6l3X/8nKtPNDXdBxUgpOI/yjqvSovFB9fG5r5oToN0GHEQ2XQbTikF3aLlow79ICkSRR2PtyyAO0uV6V1HjFvanM4yJeUee46xu6ckqjQ8WPuDFcsdqPlFr2TGsI1SFpsLqpe+RsUUdpBQ+Yt3shN3Q994v6U/Vw+NTocSYbIkPNbstWFgs4adFU9yozOCn7A0CYARJXcyX2zZK9yMeOKeTRd5sZT7G7ew+ifQMGzc3gxIzMShgSPZGQ6qzedCvMy/Cei69DnEjuuhSRZOhBr4YAFvuErIWV0dzJH3Zc66A=',t: 'MTcxMzc4NjQyMi4wODIwMDA=',cT: Math.floor(Date.now() / 1000),m: 'q9nlnMUQrt1iQSFZsdBbsr7iN4tNPQQLkR8QiPc7kbc=',i1: 'vVcKG7K9LDEgZ6iYLnt/bA==',i2: 'fyt3isQA19+LorvMJKxqGQ==',zh: 'BN9BaPHaO30nflmuyWKD9+4uWUqCqkjKCE1hQiZFeTc=',uh: 'SLdVolODg++SO356HusO5I/hbfOpiiOxQXj62i/MUkA=',hh: 'mVib7W73OtvjPuyy4h5CFYGs/4QEra9sJW/jwEqw2Xk=',}};var cpo = document.createElement('script');cpo.src = '/cdn-cgi/challenge-platform/h/b/orchestrate/chl_page/v1?ray=87856071fb9c8577';window._cf_chl_opt.cOgUHash = location.hash === '' && location.href.indexOf('#') !== -1 ? '#' : location.hash;window._cf_chl_opt.cOgUQuery = location.search === '' && location.href.slice(0, location.href.length - window._cf_chl_opt.cOgUHash.length).indexOf('?') !== -1 ? '?' : location.search;if (window.history && window.history.replaceState) {var ogU = location.pathname + window._cf_chl_opt.cOgUQuery + window._cf_chl_opt.cOgUHash;history.replaceState(null, null, \"\\/topics\\/inspirational-quotes?__cf_chl_rt_tk=9sQlVCj4n8JNG9KDUioUisb0ZsrLPH2WwKXcxxJIqSU-1713786422-0.0.1.1-1663\" + window._cf_chl_opt.cOgUHash);cpo.onload = function() {history.replaceState(null, null, ogU);}}document.getElementsByTagName('head')[0].appendChild(cpo);}());\n",
      "  </script>\n",
      " </body>\n",
      "</html>\n"
     ]
    }
   ],
   "source": [
    "print(soup.prettify())"
   ]
  },
  {
   "cell_type": "code",
   "execution_count": null,
   "id": "45fb8821",
   "metadata": {},
   "outputs": [],
   "source": []
  }
 ],
 "metadata": {
  "kernelspec": {
   "display_name": "Python 3 (ipykernel)",
   "language": "python",
   "name": "python3"
  },
  "language_info": {
   "codemirror_mode": {
    "name": "ipython",
    "version": 3
   },
   "file_extension": ".py",
   "mimetype": "text/x-python",
   "name": "python",
   "nbconvert_exporter": "python",
   "pygments_lexer": "ipython3",
   "version": "3.9.13"
  }
 },
 "nbformat": 4,
 "nbformat_minor": 5
}
